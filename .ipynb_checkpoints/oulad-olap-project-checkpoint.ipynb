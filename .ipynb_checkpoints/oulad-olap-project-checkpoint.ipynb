{
 "cells": [
  {
   "cell_type": "code",
   "execution_count": 1,
   "id": "5cb6b6d8-19c7-467d-8d2b-6b3fd760131b",
   "metadata": {},
   "outputs": [],
   "source": [
    "import pandas as pd"
   ]
  },
  {
   "cell_type": "code",
   "execution_count": 2,
   "id": "c413d7b5-c61b-4d01-8329-c5de3ea61120",
   "metadata": {},
   "outputs": [
    {
     "name": "stdout",
     "output_type": "stream",
     "text": [
      "Welcome to atoti 0.7.1!\n",
      "\n",
      "By using this community edition, you agree with the license available at https://docs.atoti.io/latest/eula.html.\n",
      "Browse the official documentation at https://docs.atoti.io.\n",
      "Join the community at https://www.atoti.io/register.\n",
      "\n",
      "atoti collects telemetry data, which is used to help understand how to improve the product.\n",
      "If you don't wish to send usage data, set the ATOTI_DISABLE_TELEMETRY environment variable to True.\n",
      "\n",
      "You can hide this message by setting the ATOTI_HIDE_EULA_MESSAGE environment variable to True.\n"
     ]
    }
   ],
   "source": [
    "import atoti as tt"
   ]
  },
  {
   "cell_type": "markdown",
   "id": "bdb9c356-d114-4036-a52c-7d495e57e09a",
   "metadata": {},
   "source": [
    "### Load Data"
   ]
  },
  {
   "cell_type": "code",
   "execution_count": 3,
   "id": "7fc3dee4-c81f-4756-bb9a-d452d4ef3d96",
   "metadata": {},
   "outputs": [],
   "source": [
    "courses_frame = pd.read_csv('data/courses.csv')"
   ]
  },
  {
   "cell_type": "code",
   "execution_count": 4,
   "id": "caea195f-4c04-4571-8795-ac4b20a3b497",
   "metadata": {},
   "outputs": [],
   "source": [
    "std_info_frame = pd.read_csv('data/studentInfo.csv')"
   ]
  },
  {
   "cell_type": "code",
   "execution_count": 5,
   "id": "34dd38c5-ab48-47d1-bd78-4097bd6ad5db",
   "metadata": {},
   "outputs": [],
   "source": [
    "assesments_frame = pd.read_csv('data/assessments.csv')"
   ]
  },
  {
   "cell_type": "markdown",
   "id": "34858eba-3f52-4810-b75b-35af39b3e0a6",
   "metadata": {},
   "source": [
    "### Ambil fitur-fitur pada tabel yang akan untuk dianalisis"
   ]
  },
  {
   "cell_type": "markdown",
   "id": "52e2fa84-b0e8-4e2a-870c-6c0ecb1211ce",
   "metadata": {},
   "source": [
    "#### Pilih fitur dari Tabel course"
   ]
  },
  {
   "cell_type": "code",
   "execution_count": 6,
   "id": "7fe110b9-3b9b-421d-800e-aea0ae1784c2",
   "metadata": {},
   "outputs": [
    {
     "data": {
      "text/html": [
       "<div>\n",
       "<style scoped>\n",
       "    .dataframe tbody tr th:only-of-type {\n",
       "        vertical-align: middle;\n",
       "    }\n",
       "\n",
       "    .dataframe tbody tr th {\n",
       "        vertical-align: top;\n",
       "    }\n",
       "\n",
       "    .dataframe thead th {\n",
       "        text-align: right;\n",
       "    }\n",
       "</style>\n",
       "<table border=\"1\" class=\"dataframe\">\n",
       "  <thead>\n",
       "    <tr style=\"text-align: right;\">\n",
       "      <th></th>\n",
       "      <th>code_presentation</th>\n",
       "      <th>code_module</th>\n",
       "      <th>module_presentation_length</th>\n",
       "    </tr>\n",
       "  </thead>\n",
       "  <tbody>\n",
       "    <tr>\n",
       "      <th>0</th>\n",
       "      <td>2013J</td>\n",
       "      <td>AAA</td>\n",
       "      <td>268</td>\n",
       "    </tr>\n",
       "    <tr>\n",
       "      <th>1</th>\n",
       "      <td>2014J</td>\n",
       "      <td>AAA</td>\n",
       "      <td>269</td>\n",
       "    </tr>\n",
       "    <tr>\n",
       "      <th>2</th>\n",
       "      <td>2013J</td>\n",
       "      <td>BBB</td>\n",
       "      <td>268</td>\n",
       "    </tr>\n",
       "    <tr>\n",
       "      <th>3</th>\n",
       "      <td>2014J</td>\n",
       "      <td>BBB</td>\n",
       "      <td>262</td>\n",
       "    </tr>\n",
       "    <tr>\n",
       "      <th>4</th>\n",
       "      <td>2013B</td>\n",
       "      <td>BBB</td>\n",
       "      <td>240</td>\n",
       "    </tr>\n",
       "  </tbody>\n",
       "</table>\n",
       "</div>"
      ],
      "text/plain": [
       "  code_presentation code_module  module_presentation_length\n",
       "0             2013J         AAA                         268\n",
       "1             2014J         AAA                         269\n",
       "2             2013J         BBB                         268\n",
       "3             2014J         BBB                         262\n",
       "4             2013B         BBB                         240"
      ]
     },
     "execution_count": 6,
     "metadata": {},
     "output_type": "execute_result"
    }
   ],
   "source": [
    "# ambil feature yang diperlukan pada dataframe std_asses_frame\n",
    "courses = pd.DataFrame(courses_frame, columns=['code_presentation', 'code_module', 'module_presentation_length'])\n",
    "\n",
    "# tampilkan data\n",
    "courses.head(5)"
   ]
  },
  {
   "cell_type": "markdown",
   "id": "4ea598c0-0eb7-47ec-ae17-72ae649f182e",
   "metadata": {},
   "source": [
    "#### Pilih fitur dari Tabel studentInfo"
   ]
  },
  {
   "cell_type": "code",
   "execution_count": 7,
   "id": "7e798325-db46-4470-b56e-2767490cee07",
   "metadata": {},
   "outputs": [
    {
     "data": {
      "text/html": [
       "<div>\n",
       "<style scoped>\n",
       "    .dataframe tbody tr th:only-of-type {\n",
       "        vertical-align: middle;\n",
       "    }\n",
       "\n",
       "    .dataframe tbody tr th {\n",
       "        vertical-align: top;\n",
       "    }\n",
       "\n",
       "    .dataframe thead th {\n",
       "        text-align: right;\n",
       "    }\n",
       "</style>\n",
       "<table border=\"1\" class=\"dataframe\">\n",
       "  <thead>\n",
       "    <tr style=\"text-align: right;\">\n",
       "      <th></th>\n",
       "      <th>id_student</th>\n",
       "      <th>final_result</th>\n",
       "      <th>gender</th>\n",
       "      <th>imd_band</th>\n",
       "      <th>highest_education</th>\n",
       "      <th>age_band</th>\n",
       "      <th>num_of_prev_attempts</th>\n",
       "      <th>studied_credits</th>\n",
       "      <th>region</th>\n",
       "    </tr>\n",
       "  </thead>\n",
       "  <tbody>\n",
       "    <tr>\n",
       "      <th>0</th>\n",
       "      <td>11391</td>\n",
       "      <td>Pass</td>\n",
       "      <td>M</td>\n",
       "      <td>90-100%</td>\n",
       "      <td>HE Qualification</td>\n",
       "      <td>55&lt;=</td>\n",
       "      <td>0</td>\n",
       "      <td>240</td>\n",
       "      <td>East Anglian Region</td>\n",
       "    </tr>\n",
       "    <tr>\n",
       "      <th>1</th>\n",
       "      <td>28400</td>\n",
       "      <td>Pass</td>\n",
       "      <td>F</td>\n",
       "      <td>20-30%</td>\n",
       "      <td>HE Qualification</td>\n",
       "      <td>35-55</td>\n",
       "      <td>0</td>\n",
       "      <td>60</td>\n",
       "      <td>Scotland</td>\n",
       "    </tr>\n",
       "    <tr>\n",
       "      <th>2</th>\n",
       "      <td>30268</td>\n",
       "      <td>Withdrawn</td>\n",
       "      <td>F</td>\n",
       "      <td>30-40%</td>\n",
       "      <td>A Level or Equivalent</td>\n",
       "      <td>35-55</td>\n",
       "      <td>0</td>\n",
       "      <td>60</td>\n",
       "      <td>North Western Region</td>\n",
       "    </tr>\n",
       "    <tr>\n",
       "      <th>3</th>\n",
       "      <td>31604</td>\n",
       "      <td>Pass</td>\n",
       "      <td>F</td>\n",
       "      <td>50-60%</td>\n",
       "      <td>A Level or Equivalent</td>\n",
       "      <td>35-55</td>\n",
       "      <td>0</td>\n",
       "      <td>60</td>\n",
       "      <td>South East Region</td>\n",
       "    </tr>\n",
       "    <tr>\n",
       "      <th>4</th>\n",
       "      <td>32885</td>\n",
       "      <td>Pass</td>\n",
       "      <td>F</td>\n",
       "      <td>50-60%</td>\n",
       "      <td>Lower Than A Level</td>\n",
       "      <td>0-35</td>\n",
       "      <td>0</td>\n",
       "      <td>60</td>\n",
       "      <td>West Midlands Region</td>\n",
       "    </tr>\n",
       "  </tbody>\n",
       "</table>\n",
       "</div>"
      ],
      "text/plain": [
       "  id_student final_result gender imd_band      highest_education age_band  \\\n",
       "0      11391         Pass      M  90-100%       HE Qualification     55<=   \n",
       "1      28400         Pass      F   20-30%       HE Qualification    35-55   \n",
       "2      30268    Withdrawn      F   30-40%  A Level or Equivalent    35-55   \n",
       "3      31604         Pass      F   50-60%  A Level or Equivalent    35-55   \n",
       "4      32885         Pass      F   50-60%     Lower Than A Level     0-35   \n",
       "\n",
       "   num_of_prev_attempts  studied_credits                region  \n",
       "0                     0              240   East Anglian Region  \n",
       "1                     0               60              Scotland  \n",
       "2                     0               60  North Western Region  \n",
       "3                     0               60     South East Region  \n",
       "4                     0               60  West Midlands Region  "
      ]
     },
     "execution_count": 7,
     "metadata": {},
     "output_type": "execute_result"
    }
   ],
   "source": [
    "# ambil feature yang diperlukan pada dataframe std_asses_frame\n",
    "stdInfo = pd.DataFrame(std_info_frame, columns=['id_student', 'final_result', 'gender','imd_band',\n",
    "                                                'highest_education', 'age_band', 'num_of_prev_attempts',\n",
    "                                                'studied_credits', 'region'])\n",
    "\n",
    "# id perlu diubah menjadi string\n",
    "stdInfo['id_student'] = stdInfo['id_student'].astype('string')\n",
    "\n",
    "# tampilkan data\n",
    "stdInfo.head(5)\n"
   ]
  },
  {
   "cell_type": "markdown",
   "id": "da02307b-98d3-4d1c-a289-5bb14f7eb44e",
   "metadata": {},
   "source": [
    "#### Pilih fitur dari Tabel assesments"
   ]
  },
  {
   "cell_type": "code",
   "execution_count": 8,
   "id": "bbcf2f8e-eb88-4e3b-857c-46fe0b2bcf50",
   "metadata": {},
   "outputs": [
    {
     "data": {
      "text/html": [
       "<div>\n",
       "<style scoped>\n",
       "    .dataframe tbody tr th:only-of-type {\n",
       "        vertical-align: middle;\n",
       "    }\n",
       "\n",
       "    .dataframe tbody tr th {\n",
       "        vertical-align: top;\n",
       "    }\n",
       "\n",
       "    .dataframe thead th {\n",
       "        text-align: right;\n",
       "    }\n",
       "</style>\n",
       "<table border=\"1\" class=\"dataframe\">\n",
       "  <thead>\n",
       "    <tr style=\"text-align: right;\">\n",
       "      <th></th>\n",
       "      <th>id_assessment</th>\n",
       "      <th>assessment_type</th>\n",
       "      <th>date</th>\n",
       "    </tr>\n",
       "  </thead>\n",
       "  <tbody>\n",
       "    <tr>\n",
       "      <th>0</th>\n",
       "      <td>1752</td>\n",
       "      <td>TMA</td>\n",
       "      <td>19.0</td>\n",
       "    </tr>\n",
       "    <tr>\n",
       "      <th>1</th>\n",
       "      <td>1753</td>\n",
       "      <td>TMA</td>\n",
       "      <td>54.0</td>\n",
       "    </tr>\n",
       "    <tr>\n",
       "      <th>2</th>\n",
       "      <td>1754</td>\n",
       "      <td>TMA</td>\n",
       "      <td>117.0</td>\n",
       "    </tr>\n",
       "    <tr>\n",
       "      <th>3</th>\n",
       "      <td>1755</td>\n",
       "      <td>TMA</td>\n",
       "      <td>166.0</td>\n",
       "    </tr>\n",
       "    <tr>\n",
       "      <th>4</th>\n",
       "      <td>1756</td>\n",
       "      <td>TMA</td>\n",
       "      <td>215.0</td>\n",
       "    </tr>\n",
       "  </tbody>\n",
       "</table>\n",
       "</div>"
      ],
      "text/plain": [
       "  id_assessment assessment_type   date\n",
       "0          1752             TMA   19.0\n",
       "1          1753             TMA   54.0\n",
       "2          1754             TMA  117.0\n",
       "3          1755             TMA  166.0\n",
       "4          1756             TMA  215.0"
      ]
     },
     "execution_count": 8,
     "metadata": {},
     "output_type": "execute_result"
    }
   ],
   "source": [
    "# ambil feature yang diperlukan pada dataframe assesments_frame\n",
    "asses = pd.DataFrame(assesments_frame, columns=['id_assessment', 'assessment_type', 'date'])\n",
    "\n",
    "# id perlu diubah menjadi string\n",
    "asses['id_assessment'] = asses['id_assessment'].astype('string')\n",
    "\n",
    "asses.head(5)"
   ]
  },
  {
   "cell_type": "markdown",
   "id": "a4183bda-fb0d-4e4f-894d-fd43feb77cdb",
   "metadata": {},
   "source": [
    "### Handling Null Values"
   ]
  },
  {
   "cell_type": "markdown",
   "id": "4fe3cb96-8387-4ed7-9099-529471341cd1",
   "metadata": {},
   "source": [
    "#### Null values pada tabel course"
   ]
  },
  {
   "cell_type": "code",
   "execution_count": 9,
   "id": "ea399cd2-b706-46ef-a455-7e4d86e7f63d",
   "metadata": {},
   "outputs": [
    {
     "data": {
      "text/html": [
       "<div>\n",
       "<style scoped>\n",
       "    .dataframe tbody tr th:only-of-type {\n",
       "        vertical-align: middle;\n",
       "    }\n",
       "\n",
       "    .dataframe tbody tr th {\n",
       "        vertical-align: top;\n",
       "    }\n",
       "\n",
       "    .dataframe thead th {\n",
       "        text-align: right;\n",
       "    }\n",
       "</style>\n",
       "<table border=\"1\" class=\"dataframe\">\n",
       "  <thead>\n",
       "    <tr style=\"text-align: right;\">\n",
       "      <th></th>\n",
       "      <th>0</th>\n",
       "    </tr>\n",
       "  </thead>\n",
       "  <tbody>\n",
       "    <tr>\n",
       "      <th>code_presentation</th>\n",
       "      <td>0</td>\n",
       "    </tr>\n",
       "    <tr>\n",
       "      <th>code_module</th>\n",
       "      <td>0</td>\n",
       "    </tr>\n",
       "    <tr>\n",
       "      <th>module_presentation_length</th>\n",
       "      <td>0</td>\n",
       "    </tr>\n",
       "  </tbody>\n",
       "</table>\n",
       "</div>"
      ],
      "text/plain": [
       "                            0\n",
       "code_presentation           0\n",
       "code_module                 0\n",
       "module_presentation_length  0"
      ]
     },
     "execution_count": 9,
     "metadata": {},
     "output_type": "execute_result"
    }
   ],
   "source": [
    "pd.DataFrame(courses.isnull().sum().sort_values(ascending=False)).head()"
   ]
  },
  {
   "cell_type": "markdown",
   "id": "5af3460c-f844-4abc-9961-27fbc5c961ef",
   "metadata": {},
   "source": [
    "tidak ditemukan null values --> aman"
   ]
  },
  {
   "cell_type": "markdown",
   "id": "b9ce4437-30a5-4896-8260-853838c57502",
   "metadata": {},
   "source": [
    "#### Null values pada tabel studentInfo"
   ]
  },
  {
   "cell_type": "code",
   "execution_count": 10,
   "id": "f0066137-c2cb-4419-aa8d-dae72cad5921",
   "metadata": {},
   "outputs": [
    {
     "data": {
      "text/html": [
       "<div>\n",
       "<style scoped>\n",
       "    .dataframe tbody tr th:only-of-type {\n",
       "        vertical-align: middle;\n",
       "    }\n",
       "\n",
       "    .dataframe tbody tr th {\n",
       "        vertical-align: top;\n",
       "    }\n",
       "\n",
       "    .dataframe thead th {\n",
       "        text-align: right;\n",
       "    }\n",
       "</style>\n",
       "<table border=\"1\" class=\"dataframe\">\n",
       "  <thead>\n",
       "    <tr style=\"text-align: right;\">\n",
       "      <th></th>\n",
       "      <th>0</th>\n",
       "    </tr>\n",
       "  </thead>\n",
       "  <tbody>\n",
       "    <tr>\n",
       "      <th>imd_band</th>\n",
       "      <td>1111</td>\n",
       "    </tr>\n",
       "    <tr>\n",
       "      <th>id_student</th>\n",
       "      <td>0</td>\n",
       "    </tr>\n",
       "    <tr>\n",
       "      <th>final_result</th>\n",
       "      <td>0</td>\n",
       "    </tr>\n",
       "    <tr>\n",
       "      <th>gender</th>\n",
       "      <td>0</td>\n",
       "    </tr>\n",
       "    <tr>\n",
       "      <th>highest_education</th>\n",
       "      <td>0</td>\n",
       "    </tr>\n",
       "  </tbody>\n",
       "</table>\n",
       "</div>"
      ],
      "text/plain": [
       "                      0\n",
       "imd_band           1111\n",
       "id_student            0\n",
       "final_result          0\n",
       "gender                0\n",
       "highest_education     0"
      ]
     },
     "execution_count": 10,
     "metadata": {},
     "output_type": "execute_result"
    }
   ],
   "source": [
    "pd.DataFrame(stdInfo.isnull().sum().sort_values(ascending=False)).head()"
   ]
  },
  {
   "cell_type": "markdown",
   "id": "44738f37-eb56-4768-9f84-64773046a918",
   "metadata": {},
   "source": [
    "imd_band akan didrop karena tidak digunakan dalam analisis"
   ]
  },
  {
   "cell_type": "code",
   "execution_count": 11,
   "id": "470e1aa0-8654-4720-a8b1-e8229a1f6a08",
   "metadata": {},
   "outputs": [],
   "source": [
    "stdInfo = stdInfo.drop(['imd_band'], axis=1)"
   ]
  },
  {
   "cell_type": "code",
   "execution_count": 12,
   "id": "b979a36a-ba13-48a7-bd7a-a859aab40b8a",
   "metadata": {},
   "outputs": [
    {
     "data": {
      "text/html": [
       "<div>\n",
       "<style scoped>\n",
       "    .dataframe tbody tr th:only-of-type {\n",
       "        vertical-align: middle;\n",
       "    }\n",
       "\n",
       "    .dataframe tbody tr th {\n",
       "        vertical-align: top;\n",
       "    }\n",
       "\n",
       "    .dataframe thead th {\n",
       "        text-align: right;\n",
       "    }\n",
       "</style>\n",
       "<table border=\"1\" class=\"dataframe\">\n",
       "  <thead>\n",
       "    <tr style=\"text-align: right;\">\n",
       "      <th></th>\n",
       "      <th>0</th>\n",
       "    </tr>\n",
       "  </thead>\n",
       "  <tbody>\n",
       "    <tr>\n",
       "      <th>id_student</th>\n",
       "      <td>0</td>\n",
       "    </tr>\n",
       "    <tr>\n",
       "      <th>final_result</th>\n",
       "      <td>0</td>\n",
       "    </tr>\n",
       "    <tr>\n",
       "      <th>gender</th>\n",
       "      <td>0</td>\n",
       "    </tr>\n",
       "    <tr>\n",
       "      <th>highest_education</th>\n",
       "      <td>0</td>\n",
       "    </tr>\n",
       "    <tr>\n",
       "      <th>age_band</th>\n",
       "      <td>0</td>\n",
       "    </tr>\n",
       "  </tbody>\n",
       "</table>\n",
       "</div>"
      ],
      "text/plain": [
       "                   0\n",
       "id_student         0\n",
       "final_result       0\n",
       "gender             0\n",
       "highest_education  0\n",
       "age_band           0"
      ]
     },
     "execution_count": 12,
     "metadata": {},
     "output_type": "execute_result"
    }
   ],
   "source": [
    "pd.DataFrame(stdInfo.isnull().sum().sort_values(ascending=False)).head()"
   ]
  },
  {
   "cell_type": "markdown",
   "id": "a26ca091-3599-44f5-a7cc-9c6fe8c66048",
   "metadata": {},
   "source": [
    "#### Null values pada tabel assesments"
   ]
  },
  {
   "cell_type": "code",
   "execution_count": 13,
   "id": "e03d7cc8-0d78-4516-98f2-843e16270e6e",
   "metadata": {},
   "outputs": [
    {
     "data": {
      "text/html": [
       "<div>\n",
       "<style scoped>\n",
       "    .dataframe tbody tr th:only-of-type {\n",
       "        vertical-align: middle;\n",
       "    }\n",
       "\n",
       "    .dataframe tbody tr th {\n",
       "        vertical-align: top;\n",
       "    }\n",
       "\n",
       "    .dataframe thead th {\n",
       "        text-align: right;\n",
       "    }\n",
       "</style>\n",
       "<table border=\"1\" class=\"dataframe\">\n",
       "  <thead>\n",
       "    <tr style=\"text-align: right;\">\n",
       "      <th></th>\n",
       "      <th>0</th>\n",
       "    </tr>\n",
       "  </thead>\n",
       "  <tbody>\n",
       "    <tr>\n",
       "      <th>date</th>\n",
       "      <td>11</td>\n",
       "    </tr>\n",
       "    <tr>\n",
       "      <th>id_assessment</th>\n",
       "      <td>0</td>\n",
       "    </tr>\n",
       "    <tr>\n",
       "      <th>assessment_type</th>\n",
       "      <td>0</td>\n",
       "    </tr>\n",
       "  </tbody>\n",
       "</table>\n",
       "</div>"
      ],
      "text/plain": [
       "                  0\n",
       "date             11\n",
       "id_assessment     0\n",
       "assessment_type   0"
      ]
     },
     "execution_count": 13,
     "metadata": {},
     "output_type": "execute_result"
    }
   ],
   "source": [
    "pd.DataFrame(asses.isnull().sum().sort_values(ascending=False)).head()"
   ]
  },
  {
   "cell_type": "markdown",
   "id": "96aee713-64ca-471b-9b21-9ce7d009c404",
   "metadata": {},
   "source": [
    "date akan didrop karena tidak digunakan dalam analisis"
   ]
  },
  {
   "cell_type": "code",
   "execution_count": 14,
   "id": "4d737c5a-8944-40ed-b8bd-d8227fc74e1f",
   "metadata": {},
   "outputs": [],
   "source": [
    "asses = asses.drop(['date'], axis=1)"
   ]
  },
  {
   "cell_type": "code",
   "execution_count": 15,
   "id": "79a7a3a3-35eb-46f0-ace7-717e27c9d6f8",
   "metadata": {},
   "outputs": [
    {
     "data": {
      "text/html": [
       "<div>\n",
       "<style scoped>\n",
       "    .dataframe tbody tr th:only-of-type {\n",
       "        vertical-align: middle;\n",
       "    }\n",
       "\n",
       "    .dataframe tbody tr th {\n",
       "        vertical-align: top;\n",
       "    }\n",
       "\n",
       "    .dataframe thead th {\n",
       "        text-align: right;\n",
       "    }\n",
       "</style>\n",
       "<table border=\"1\" class=\"dataframe\">\n",
       "  <thead>\n",
       "    <tr style=\"text-align: right;\">\n",
       "      <th></th>\n",
       "      <th>0</th>\n",
       "    </tr>\n",
       "  </thead>\n",
       "  <tbody>\n",
       "    <tr>\n",
       "      <th>id_assessment</th>\n",
       "      <td>0</td>\n",
       "    </tr>\n",
       "    <tr>\n",
       "      <th>assessment_type</th>\n",
       "      <td>0</td>\n",
       "    </tr>\n",
       "  </tbody>\n",
       "</table>\n",
       "</div>"
      ],
      "text/plain": [
       "                 0\n",
       "id_assessment    0\n",
       "assessment_type  0"
      ]
     },
     "execution_count": 15,
     "metadata": {},
     "output_type": "execute_result"
    }
   ],
   "source": [
    "pd.DataFrame(asses.isnull().sum().sort_values(ascending=False)).head()"
   ]
  },
  {
   "cell_type": "code",
   "execution_count": null,
   "id": "9083bfa0-83a0-4f22-92dd-7f70b70952ad",
   "metadata": {},
   "outputs": [],
   "source": []
  }
 ],
 "metadata": {
  "kernelspec": {
   "display_name": "Python 3 (ipykernel)",
   "language": "python",
   "name": "python3"
  },
  "language_info": {
   "codemirror_mode": {
    "name": "ipython",
    "version": 3
   },
   "file_extension": ".py",
   "mimetype": "text/x-python",
   "name": "python",
   "nbconvert_exporter": "python",
   "pygments_lexer": "ipython3",
   "version": "3.10.7"
  }
 },
 "nbformat": 4,
 "nbformat_minor": 5
}
