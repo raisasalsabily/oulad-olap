{
 "cells": [
  {
   "cell_type": "code",
   "execution_count": 1,
   "id": "5cb6b6d8-19c7-467d-8d2b-6b3fd760131b",
   "metadata": {},
   "outputs": [],
   "source": [
    "import pandas as pd"
   ]
  },
  {
   "cell_type": "code",
   "execution_count": 2,
   "id": "c413d7b5-c61b-4d01-8329-c5de3ea61120",
   "metadata": {},
   "outputs": [
    {
     "name": "stdout",
     "output_type": "stream",
     "text": [
      "Welcome to atoti 0.7.1!\n",
      "\n",
      "By using this community edition, you agree with the license available at https://docs.atoti.io/latest/eula.html.\n",
      "Browse the official documentation at https://docs.atoti.io.\n",
      "Join the community at https://www.atoti.io/register.\n",
      "\n",
      "atoti collects telemetry data, which is used to help understand how to improve the product.\n",
      "If you don't wish to send usage data, set the ATOTI_DISABLE_TELEMETRY environment variable to True.\n",
      "\n",
      "You can hide this message by setting the ATOTI_HIDE_EULA_MESSAGE environment variable to True.\n"
     ]
    }
   ],
   "source": [
    "import atoti as tt"
   ]
  },
  {
   "cell_type": "markdown",
   "id": "bdb9c356-d114-4036-a52c-7d495e57e09a",
   "metadata": {},
   "source": [
    "### Load Data"
   ]
  },
  {
   "cell_type": "code",
   "execution_count": 3,
   "id": "7fc3dee4-c81f-4756-bb9a-d452d4ef3d96",
   "metadata": {},
   "outputs": [],
   "source": [
    "courses_frame = pd.read_csv('data/courses.csv')"
   ]
  },
  {
   "cell_type": "code",
   "execution_count": 4,
   "id": "caea195f-4c04-4571-8795-ac4b20a3b497",
   "metadata": {},
   "outputs": [],
   "source": [
    "std_info_frame = pd.read_csv('data/studentInfo.csv')"
   ]
  },
  {
   "cell_type": "code",
   "execution_count": 5,
   "id": "34dd38c5-ab48-47d1-bd78-4097bd6ad5db",
   "metadata": {},
   "outputs": [],
   "source": [
    "assesments_frame = pd.read_csv('data/assessments.csv')"
   ]
  },
  {
   "cell_type": "markdown",
   "id": "34858eba-3f52-4810-b75b-35af39b3e0a6",
   "metadata": {},
   "source": [
    "### Ambil fitur-fitur pada tabel yang akan untuk dianalisis"
   ]
  },
  {
   "cell_type": "markdown",
   "id": "52e2fa84-b0e8-4e2a-870c-6c0ecb1211ce",
   "metadata": {},
   "source": [
    "#### Pilih fitur dari Tabel course"
   ]
  },
  {
   "cell_type": "code",
   "execution_count": 6,
   "id": "7fe110b9-3b9b-421d-800e-aea0ae1784c2",
   "metadata": {},
   "outputs": [
    {
     "data": {
      "text/html": [
       "<div>\n",
       "<style scoped>\n",
       "    .dataframe tbody tr th:only-of-type {\n",
       "        vertical-align: middle;\n",
       "    }\n",
       "\n",
       "    .dataframe tbody tr th {\n",
       "        vertical-align: top;\n",
       "    }\n",
       "\n",
       "    .dataframe thead th {\n",
       "        text-align: right;\n",
       "    }\n",
       "</style>\n",
       "<table border=\"1\" class=\"dataframe\">\n",
       "  <thead>\n",
       "    <tr style=\"text-align: right;\">\n",
       "      <th></th>\n",
       "      <th>code_presentation</th>\n",
       "      <th>code_module</th>\n",
       "    </tr>\n",
       "  </thead>\n",
       "  <tbody>\n",
       "    <tr>\n",
       "      <th>0</th>\n",
       "      <td>2013J</td>\n",
       "      <td>AAA</td>\n",
       "    </tr>\n",
       "    <tr>\n",
       "      <th>1</th>\n",
       "      <td>2014J</td>\n",
       "      <td>AAA</td>\n",
       "    </tr>\n",
       "    <tr>\n",
       "      <th>2</th>\n",
       "      <td>2013J</td>\n",
       "      <td>BBB</td>\n",
       "    </tr>\n",
       "    <tr>\n",
       "      <th>3</th>\n",
       "      <td>2014J</td>\n",
       "      <td>BBB</td>\n",
       "    </tr>\n",
       "    <tr>\n",
       "      <th>4</th>\n",
       "      <td>2013B</td>\n",
       "      <td>BBB</td>\n",
       "    </tr>\n",
       "  </tbody>\n",
       "</table>\n",
       "</div>"
      ],
      "text/plain": [
       "  code_presentation code_module\n",
       "0             2013J         AAA\n",
       "1             2014J         AAA\n",
       "2             2013J         BBB\n",
       "3             2014J         BBB\n",
       "4             2013B         BBB"
      ]
     },
     "execution_count": 6,
     "metadata": {},
     "output_type": "execute_result"
    }
   ],
   "source": [
    "# ambil feature yang diperlukan pada dataframe std_asses_frame\n",
    "courses = pd.DataFrame(courses_frame, columns=['code_presentation', 'code_module'])\n",
    "\n",
    "# tampilkan data\n",
    "courses.head(5)"
   ]
  },
  {
   "cell_type": "markdown",
   "id": "4ea598c0-0eb7-47ec-ae17-72ae649f182e",
   "metadata": {},
   "source": [
    "#### Pilih fitur dari Tabel studentInfo"
   ]
  },
  {
   "cell_type": "code",
   "execution_count": 7,
   "id": "7e798325-db46-4470-b56e-2767490cee07",
   "metadata": {},
   "outputs": [
    {
     "data": {
      "text/html": [
       "<div>\n",
       "<style scoped>\n",
       "    .dataframe tbody tr th:only-of-type {\n",
       "        vertical-align: middle;\n",
       "    }\n",
       "\n",
       "    .dataframe tbody tr th {\n",
       "        vertical-align: top;\n",
       "    }\n",
       "\n",
       "    .dataframe thead th {\n",
       "        text-align: right;\n",
       "    }\n",
       "</style>\n",
       "<table border=\"1\" class=\"dataframe\">\n",
       "  <thead>\n",
       "    <tr style=\"text-align: right;\">\n",
       "      <th></th>\n",
       "      <th>id_student</th>\n",
       "      <th>final_result</th>\n",
       "      <th>gender</th>\n",
       "      <th>age_band</th>\n",
       "      <th>studied_credits</th>\n",
       "      <th>region</th>\n",
       "    </tr>\n",
       "  </thead>\n",
       "  <tbody>\n",
       "    <tr>\n",
       "      <th>0</th>\n",
       "      <td>11391</td>\n",
       "      <td>Pass</td>\n",
       "      <td>M</td>\n",
       "      <td>55&lt;=</td>\n",
       "      <td>240</td>\n",
       "      <td>East Anglian Region</td>\n",
       "    </tr>\n",
       "    <tr>\n",
       "      <th>1</th>\n",
       "      <td>28400</td>\n",
       "      <td>Pass</td>\n",
       "      <td>F</td>\n",
       "      <td>35-55</td>\n",
       "      <td>60</td>\n",
       "      <td>Scotland</td>\n",
       "    </tr>\n",
       "    <tr>\n",
       "      <th>2</th>\n",
       "      <td>30268</td>\n",
       "      <td>Withdrawn</td>\n",
       "      <td>F</td>\n",
       "      <td>35-55</td>\n",
       "      <td>60</td>\n",
       "      <td>North Western Region</td>\n",
       "    </tr>\n",
       "    <tr>\n",
       "      <th>3</th>\n",
       "      <td>31604</td>\n",
       "      <td>Pass</td>\n",
       "      <td>F</td>\n",
       "      <td>35-55</td>\n",
       "      <td>60</td>\n",
       "      <td>South East Region</td>\n",
       "    </tr>\n",
       "    <tr>\n",
       "      <th>4</th>\n",
       "      <td>32885</td>\n",
       "      <td>Pass</td>\n",
       "      <td>F</td>\n",
       "      <td>0-35</td>\n",
       "      <td>60</td>\n",
       "      <td>West Midlands Region</td>\n",
       "    </tr>\n",
       "  </tbody>\n",
       "</table>\n",
       "</div>"
      ],
      "text/plain": [
       "  id_student final_result gender age_band  studied_credits  \\\n",
       "0      11391         Pass      M     55<=              240   \n",
       "1      28400         Pass      F    35-55               60   \n",
       "2      30268    Withdrawn      F    35-55               60   \n",
       "3      31604         Pass      F    35-55               60   \n",
       "4      32885         Pass      F     0-35               60   \n",
       "\n",
       "                 region  \n",
       "0   East Anglian Region  \n",
       "1              Scotland  \n",
       "2  North Western Region  \n",
       "3     South East Region  \n",
       "4  West Midlands Region  "
      ]
     },
     "execution_count": 7,
     "metadata": {},
     "output_type": "execute_result"
    }
   ],
   "source": [
    "# ambil feature yang diperlukan pada dataframe std_asses_frame\n",
    "stdInfo = pd.DataFrame(std_info_frame, columns=['id_student', 'final_result', 'gender','age_band', 'studied_credits', 'region'])\n",
    "\n",
    "# id perlu diubah menjadi string\n",
    "stdInfo['id_student'] = stdInfo['id_student'].astype('string')\n",
    "\n",
    "# tampilkan data\n",
    "stdInfo.head(5)\n"
   ]
  },
  {
   "cell_type": "markdown",
   "id": "da02307b-98d3-4d1c-a289-5bb14f7eb44e",
   "metadata": {},
   "source": [
    "#### Pilih fitur dari Tabel assesments"
   ]
  },
  {
   "cell_type": "code",
   "execution_count": 9,
   "id": "bbcf2f8e-eb88-4e3b-857c-46fe0b2bcf50",
   "metadata": {},
   "outputs": [
    {
     "data": {
      "text/html": [
       "<div>\n",
       "<style scoped>\n",
       "    .dataframe tbody tr th:only-of-type {\n",
       "        vertical-align: middle;\n",
       "    }\n",
       "\n",
       "    .dataframe tbody tr th {\n",
       "        vertical-align: top;\n",
       "    }\n",
       "\n",
       "    .dataframe thead th {\n",
       "        text-align: right;\n",
       "    }\n",
       "</style>\n",
       "<table border=\"1\" class=\"dataframe\">\n",
       "  <thead>\n",
       "    <tr style=\"text-align: right;\">\n",
       "      <th></th>\n",
       "      <th>id_assessment</th>\n",
       "      <th>assessment_type</th>\n",
       "      <th>date</th>\n",
       "    </tr>\n",
       "  </thead>\n",
       "  <tbody>\n",
       "    <tr>\n",
       "      <th>0</th>\n",
       "      <td>1752</td>\n",
       "      <td>TMA</td>\n",
       "      <td>19.0</td>\n",
       "    </tr>\n",
       "    <tr>\n",
       "      <th>1</th>\n",
       "      <td>1753</td>\n",
       "      <td>TMA</td>\n",
       "      <td>54.0</td>\n",
       "    </tr>\n",
       "    <tr>\n",
       "      <th>2</th>\n",
       "      <td>1754</td>\n",
       "      <td>TMA</td>\n",
       "      <td>117.0</td>\n",
       "    </tr>\n",
       "    <tr>\n",
       "      <th>3</th>\n",
       "      <td>1755</td>\n",
       "      <td>TMA</td>\n",
       "      <td>166.0</td>\n",
       "    </tr>\n",
       "    <tr>\n",
       "      <th>4</th>\n",
       "      <td>1756</td>\n",
       "      <td>TMA</td>\n",
       "      <td>215.0</td>\n",
       "    </tr>\n",
       "  </tbody>\n",
       "</table>\n",
       "</div>"
      ],
      "text/plain": [
       "  id_assessment assessment_type   date\n",
       "0          1752             TMA   19.0\n",
       "1          1753             TMA   54.0\n",
       "2          1754             TMA  117.0\n",
       "3          1755             TMA  166.0\n",
       "4          1756             TMA  215.0"
      ]
     },
     "execution_count": 9,
     "metadata": {},
     "output_type": "execute_result"
    }
   ],
   "source": [
    "# ambil feature yang diperlukan pada dataframe assesments_frame\n",
    "asses = pd.DataFrame(assesments_frame, columns=['id_assessment', 'assessment_type', 'date'])\n",
    "\n",
    "# id perlu diubah menjadi string\n",
    "asses['id_assessment'] = asses['id_assessment'].astype('string')\n",
    "\n",
    "asses.head(5)"
   ]
  },
  {
   "cell_type": "code",
   "execution_count": null,
   "id": "691c78b3-823c-46c3-86fc-52a9dd7d2d45",
   "metadata": {},
   "outputs": [],
   "source": []
  }
 ],
 "metadata": {
  "kernelspec": {
   "display_name": "Python 3 (ipykernel)",
   "language": "python",
   "name": "python3"
  },
  "language_info": {
   "codemirror_mode": {
    "name": "ipython",
    "version": 3
   },
   "file_extension": ".py",
   "mimetype": "text/x-python",
   "name": "python",
   "nbconvert_exporter": "python",
   "pygments_lexer": "ipython3",
   "version": "3.10.7"
  }
 },
 "nbformat": 4,
 "nbformat_minor": 5
}
