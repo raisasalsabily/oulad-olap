{
 "cells": [
  {
   "cell_type": "code",
   "execution_count": 1,
   "id": "c413d7b5-c61b-4d01-8329-c5de3ea61120",
   "metadata": {},
   "outputs": [
    {
     "name": "stdout",
     "output_type": "stream",
     "text": [
      "Welcome to atoti 0.7.1!\n",
      "\n",
      "By using this community edition, you agree with the license available at https://docs.atoti.io/latest/eula.html.\n",
      "Browse the official documentation at https://docs.atoti.io.\n",
      "Join the community at https://www.atoti.io/register.\n",
      "\n",
      "atoti collects telemetry data, which is used to help understand how to improve the product.\n",
      "If you don't wish to send usage data, set the ATOTI_DISABLE_TELEMETRY environment variable to True.\n",
      "\n",
      "You can hide this message by setting the ATOTI_HIDE_EULA_MESSAGE environment variable to True.\n"
     ]
    }
   ],
   "source": [
    "import atoti as tt"
   ]
  },
  {
   "cell_type": "code",
   "execution_count": 2,
   "id": "08c4f7cc-2884-4c23-969f-feb2a67abb0b",
   "metadata": {},
   "outputs": [],
   "source": [
    "session = tt.Session()"
   ]
  },
  {
   "cell_type": "code",
   "execution_count": 3,
   "id": "efb8a4ee-9f70-41ba-b33f-771d0d3ddf72",
   "metadata": {},
   "outputs": [],
   "source": [
    "oulad_studentInfo = session.read_csv(\"data/studentInfo.csv\",keys=[\"id_student\"])"
   ]
  },
  {
   "cell_type": "code",
   "execution_count": 4,
   "id": "a4aec5d1-33d9-401b-8f11-8821822407fc",
   "metadata": {},
   "outputs": [],
   "source": [
    "oulad_studentReg = session.read_csv(\"data/studentRegistration.csv\",keys=[\"id_student\"])\n",
    "oulad_studentAss = session.read_csv(\"data/studentAssessment.csv\",keys=[\"id_student\"])\n",
    "#oulad_studentVle = session.read_csv(\"data/studentVle.csv\",keys=[\"id_student\"])\n",
    "oulad_assessment = session.read_csv(\"data/assessments.csv\",keys=[\"id_assessment\"])\n",
    "#oulad_courses = session.read_csv(\"data/courses.csv\",keys=[\"id_student\"])\n",
    "#oulad_vle = session.read_csv(\"data/vle.csv\",keys=[\"id_site\"])"
   ]
  },
  {
   "cell_type": "code",
   "execution_count": 18,
   "id": "098ef4fe-b14e-4b98-b829-dec07be4e749",
   "metadata": {},
   "outputs": [],
   "source": [
    "oulad_studentReg.join(oulad_studentInfo)\n",
    "oulad_studentAss.join(oulad_studentInfo)"
   ]
  },
  {
   "cell_type": "code",
   "execution_count": 21,
   "id": "2ebf9504-6b1e-4a61-aaac-6fce4ea095f2",
   "metadata": {},
   "outputs": [],
   "source": [
    "ouladGender = oulad_studentInfo['gender']"
   ]
  },
  {
   "cell_type": "code",
   "execution_count": null,
   "id": "7fc3dee4-c81f-4756-bb9a-d452d4ef3d96",
   "metadata": {},
   "outputs": [],
   "source": []
  }
 ],
 "metadata": {
  "kernelspec": {
   "display_name": "Python 3 (ipykernel)",
   "language": "python",
   "name": "python3"
  },
  "language_info": {
   "codemirror_mode": {
    "name": "ipython",
    "version": 3
   },
   "file_extension": ".py",
   "mimetype": "text/x-python",
   "name": "python",
   "nbconvert_exporter": "python",
   "pygments_lexer": "ipython3",
   "version": "3.10.8"
  }
 },
 "nbformat": 4,
 "nbformat_minor": 5
}
